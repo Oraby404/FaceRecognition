{
 "cells": [
  {
   "cell_type": "code",
   "execution_count": 74,
   "id": "ab93050f",
   "metadata": {},
   "outputs": [],
   "source": [
    "import os\n",
    "import numpy\n",
    "import pandas as pd\n",
    "from PIL import Image"
   ]
  },
  {
   "cell_type": "code",
   "execution_count": 75,
   "id": "c990ad89",
   "metadata": {},
   "outputs": [
    {
     "name": "stdout",
     "output_type": "stream",
     "text": [
      "[[ 48  49  45 ...  47  46  46]\n",
      " [ 34  34  33 ...  37  40  33]\n",
      " [ 60  60  62 ...  32  34  34]\n",
      " ...\n",
      " [112 109 116 ...  93  88  92]\n",
      " [111 114 112 ...  88  86  92]\n",
      " [110 112 113 ...  92  87  90]]\n",
      "(400, 10304)\n"
     ]
    }
   ],
   "source": [
    "data_matrix = numpy.ndarray(shape=(400, 10304), dtype=numpy.dtype('u1'))  # 8-bit unsigned int\n",
    "label_vector = numpy.empty(shape=(400, 1), dtype=numpy.dtype('u1'))\n",
    "\n",
    "i = 0\n",
    "for dirname, _, filenames in os.walk('dataset'):\n",
    "    for filename in filenames:\n",
    "        image = Image.open(os.path.join(dirname, filename))\n",
    "        numpy_image = numpy.asarray(image).flatten()\n",
    "        data_matrix[i] = numpy_image.copy()\n",
    "        label_vector[i] = int(dirname[dirname.rindex('\\\\') + 2:])\n",
    "        i += 1\n",
    "\n",
    "print(data_matrix)\n",
    "print(data_matrix.shape)"
   ]
  },
  {
   "cell_type": "code",
   "execution_count": 76,
   "id": "eeac1f23",
   "metadata": {},
   "outputs": [
    {
     "name": "stdout",
     "output_type": "stream",
     "text": [
      "[[ 34  34  33 ...  37  40  33]\n",
      " [ 39  44  53 ...  29  26  29]\n",
      " [ 64  76  80 ...  35  37  39]\n",
      " ...\n",
      " [110 109 111 ...  94  88  90]\n",
      " [112 109 116 ...  93  88  92]\n",
      " [110 112 113 ...  92  87  90]]\n",
      "(200, 10304)\n",
      "\n",
      "\n",
      "[[ 48  49  45 ...  47  46  46]\n",
      " [ 60  60  62 ...  32  34  34]\n",
      " [ 63  53  35 ...  41  10  24]\n",
      " ...\n",
      " [114 110 112 ...  93  89  86]\n",
      " [113 112 111 ...  87  87  89]\n",
      " [111 114 112 ...  88  86  92]]\n",
      "(200, 10304)\n"
     ]
    }
   ],
   "source": [
    "# Odd rows for training\n",
    "train_data = data_matrix[::2, :]\n",
    "y_train = label_vector[::2, :].ravel()\n",
    "\n",
    "# Even rows for testing\n",
    "test_data = data_matrix[1::2, :]\n",
    "y_test = label_vector[1::2, :].ravel()\n",
    "\n",
    "print(test_data)\n",
    "print(test_data.shape)\n",
    "print(\"\\n\")\n",
    "print(train_data)\n",
    "print(train_data.shape)"
   ]
  },
  {
   "cell_type": "code",
   "execution_count": 77,
   "id": "4011d7d6",
   "metadata": {},
   "outputs": [],
   "source": [
    "df = pd.DataFrame(train_data)\n",
    "df['class'] = y_train"
   ]
  },
  {
   "cell_type": "code",
   "execution_count": 78,
   "id": "c19ec423",
   "metadata": {},
   "outputs": [],
   "source": [
    "#classes --->classes matrix\n",
    "#mean_mat ---> mean for each class matrix\n",
    "#samples_c ---> nu of samples per class\n",
    "\n",
    "classes = numpy.sort(df['class'].unique())\n",
    "mean_mat = df.groupby('class').mean().values\n",
    "samples_c = df.groupby('class').size().values"
   ]
  },
  {
   "cell_type": "code",
   "execution_count": 79,
   "id": "376f9463",
   "metadata": {},
   "outputs": [
    {
     "name": "stdout",
     "output_type": "stream",
     "text": [
      "[[231615.82  228816.94  231111.73  ... -41390.46  -19667.31   -7796.11 ]\n",
      " [228816.94  226547.58  228482.91  ... -39573.22  -18219.37   -7079.97 ]\n",
      " [231111.73  228482.91  231351.995 ... -39955.09  -18238.365  -7093.165]\n",
      " ...\n",
      " [-41390.46  -39573.22  -39955.09  ... 335064.38  304869.63  288210.43 ]\n",
      " [-19667.31  -18219.37  -18238.365 ... 304869.63  292480.555 277844.955]\n",
      " [ -7796.11   -7079.97   -7093.165 ... 288210.43  277844.955 272640.155]]\n"
     ]
    }
   ],
   "source": [
    "#between classes matrix\n",
    "#nk (nu of samples for class)\n",
    "#uk (mean of class)\n",
    "#u  (mean of all classes)\n",
    "\n",
    "u = mean_mat.mean(0).reshape(1, train_data.shape[1])\n",
    "\n",
    "B = numpy.zeros(shape=(train_data.shape[1], train_data.shape[1]))\n",
    "\n",
    "for i in range(classes.size):\n",
    "    nk = samples_c[i]\n",
    "    uk = mean_mat[i].reshape(1, train_data.shape[1])\n",
    "    t = uk - u\n",
    "    B += nk * numpy.matmul(t.T, t)\n",
    "\n",
    "print(B)"
   ]
  },
  {
   "cell_type": "code",
   "execution_count": 80,
   "id": "4f709cdb",
   "metadata": {},
   "outputs": [
    {
     "name": "stdout",
     "output_type": "stream",
     "text": [
      "[[ 26322.   24844.8  24771.6 ...   -757.2  -2197.8   3702.4]\n",
      " [ 24844.8  25913.6  24942.4 ...    190.6   -395.4   4566. ]\n",
      " [ 24771.6  24942.4  25832.4 ...   -331.2    332.4   6442.8]\n",
      " ...\n",
      " [  -757.2    190.6   -331.2 ... 143575.2  90017.8  74673.8]\n",
      " [ -2197.8   -395.4    332.4 ...  90017.8  96311.6  82691. ]\n",
      " [  3702.4   4566.    6442.8 ...  74673.8  82691.   95567.6]]\n"
     ]
    }
   ],
   "source": [
    "#within class matrix\n",
    "#class_ss --> class samples\n",
    "#class_m --> class mean\n",
    "\n",
    "S = numpy.zeros(shape=(train_data.shape[1], train_data.shape[1]))\n",
    "\n",
    "for i in range(classes.size):\n",
    "    class_ss = df.loc[df['class'] == i + 1].values[:, :-1]\n",
    "    class_m = mean_mat[i].reshape(1, train_data.shape[1])\n",
    "    centered_data = numpy.subtract(class_ss, class_m)\n",
    "    s = numpy.matmul(centered_data.T, centered_data)\n",
    "    S = S + s\n",
    "\n",
    "print(S)"
   ]
  },
  {
   "cell_type": "code",
   "execution_count": 81,
   "id": "828c878e",
   "metadata": {},
   "outputs": [
    {
     "name": "stdout",
     "output_type": "stream",
     "text": [
      "[[-1.48334431e+10  2.19806018e+10 -1.11231903e+10 ...  1.61426255e+10\n",
      "   5.71164011e+09  5.31346143e+09]\n",
      " [-3.45817617e+08 -1.71984349e+10  2.47060253e+10 ... -1.33535827e+09\n",
      "  -5.49533009e+09  1.74066133e+09]\n",
      " [-1.08400987e+10 -3.82258231e+09 -3.78457935e+09 ... -2.09934602e+10\n",
      "  -7.18811238e+09 -5.90215670e+09]\n",
      " ...\n",
      " [ 2.11771705e+09 -1.00350918e+09  4.12195984e+08 ...  3.39594566e+09\n",
      "   5.35317908e+08  1.71767263e+09]\n",
      " [-1.94660029e+09 -6.97764844e+08  3.05241252e+09 ... -2.99356813e+09\n",
      "  -8.28629144e+08 -1.00106820e+09]\n",
      " [ 6.76654735e+09 -3.63735882e+09  4.71473434e+08 ...  5.76514010e+09\n",
      "   1.36148421e+09  2.11845303e+09]]\n"
     ]
    }
   ],
   "source": [
    "S_inv = numpy.linalg.inv(S)\n",
    "print(S_inv)"
   ]
  },
  {
   "cell_type": "code",
   "execution_count": 113,
   "id": "2064e9cb",
   "metadata": {},
   "outputs": [],
   "source": [
    "eigen_values, eigen_vectors = numpy.linalg.eigh(numpy.matmul(S_inv, B))"
   ]
  },
  {
   "cell_type": "code",
   "execution_count": 114,
   "id": "80d8566b",
   "metadata": {},
   "outputs": [
    {
     "data": {
      "text/plain": "array([[ 4.42897293e-03,  6.14092590e-03, -7.27808637e-03, ...,\n         7.66368283e-03, -5.96815885e-03, -4.45112875e-03],\n       [ 4.64659855e-03,  6.38154560e-03, -7.30239870e-03, ...,\n         7.67581073e-03, -6.19456437e-03, -4.66707273e-03],\n       [ 4.75891055e-03,  6.39704160e-03, -6.67463601e-03, ...,\n         7.08289035e-03, -6.24385237e-03, -4.78066622e-03],\n       ...,\n       [ 2.16435775e-05, -2.42301559e-03,  1.34663337e-02, ...,\n         1.33437567e-02, -1.98744040e-03,  7.00140600e-05],\n       [ 3.67864458e-03, -8.21830212e-04, -1.11083481e-02, ...,\n        -1.07152147e-02, -1.22788676e-03,  3.66218921e-03],\n       [-1.37936054e-03,  2.03117430e-04,  1.77564896e-02, ...,\n         1.73438821e-02,  8.75985301e-04, -1.32082063e-03]])"
     },
     "execution_count": 114,
     "metadata": {},
     "output_type": "execute_result"
    }
   ],
   "source": [
    "\n",
    "\n",
    "#sort the eigenvalues and eigenvectors in descending order\n",
    "sorted_index = numpy.argsort(eigen_values)[::-1]\n",
    "sorted_eigenvalue = eigen_values[sorted_index]\n",
    "sorted_eigenvectors = eigen_vectors[:, sorted_index]\n",
    "\n",
    "# sorted_eigenvectors = numpy.real_if_close(sorted_eigenvectors)\n",
    "\n",
    "sorted_eigenvectors"
   ]
  },
  {
   "cell_type": "code",
   "execution_count": 115,
   "id": "abcb6fe6",
   "metadata": {},
   "outputs": [
    {
     "data": {
      "text/plain": "(10304, 39)"
     },
     "execution_count": 115,
     "metadata": {},
     "output_type": "execute_result"
    }
   ],
   "source": [
    "U = sorted_eigenvectors[:, 0:39]\n",
    "U.shape"
   ]
  },
  {
   "cell_type": "code",
   "execution_count": 116,
   "id": "f2f0010e",
   "metadata": {},
   "outputs": [
    {
     "name": "stdout",
     "output_type": "stream",
     "text": [
      "(200, 39)\n",
      "(200, 39)\n"
     ]
    }
   ],
   "source": [
    "X_train = numpy.matmul(train_data, U)\n",
    "X_test = numpy.matmul(test_data, U)\n",
    "\n",
    "print(X_train.shape)\n",
    "print(X_test.shape)"
   ]
  },
  {
   "cell_type": "code",
   "execution_count": 120,
   "id": "74cf0821",
   "metadata": {
    "pycharm": {
     "name": "#%%\n"
    }
   },
   "outputs": [
    {
     "name": "stdout",
     "output_type": "stream",
     "text": [
      "Accuracy: 0.955\n"
     ]
    }
   ],
   "source": [
    "from sklearn.neighbors import KNeighborsClassifier\n",
    "from sklearn.metrics import accuracy_score\n",
    "\n",
    "knn = KNeighborsClassifier(n_neighbors=1)\n",
    "\n",
    "knn.fit(X_train, y_train)\n",
    "\n",
    "# Predict on dataset which model has not seen before\n",
    "y_pred = knn.predict(X_test)\n",
    "\n",
    "print(\"Accuracy:\", accuracy_score(y_test, y_pred))\n",
    "\n",
    "\n"
   ]
  }
 ],
 "metadata": {
  "kernelspec": {
   "name": "pycharm-f33d6573",
   "language": "python",
   "display_name": "PyCharm (FaceRecognition)"
  },
  "language_info": {
   "codemirror_mode": {
    "name": "ipython",
    "version": 3
   },
   "file_extension": ".py",
   "mimetype": "text/x-python",
   "name": "python",
   "nbconvert_exporter": "python",
   "pygments_lexer": "ipython3",
   "version": "3.8.8"
  }
 },
 "nbformat": 4,
 "nbformat_minor": 5
}