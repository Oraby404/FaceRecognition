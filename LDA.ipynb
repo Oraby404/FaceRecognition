{
 "cells": [
  {
   "cell_type": "code",
   "execution_count": 1,
   "id": "ab93050f",
   "metadata": {},
   "outputs": [],
   "source": [
    "import os\n",
    "import numpy\n",
    "import pandas as pd\n",
    "from PIL import Image"
   ]
  },
  {
   "cell_type": "code",
   "execution_count": 2,
   "id": "c990ad89",
   "metadata": {},
   "outputs": [
    {
     "name": "stdout",
     "output_type": "stream",
     "text": [
      "[[ 48  49  45 ...  47  46  46]\n",
      " [ 34  34  33 ...  37  40  33]\n",
      " [ 60  60  62 ...  32  34  34]\n",
      " ...\n",
      " [112 109 116 ...  93  88  92]\n",
      " [111 114 112 ...  88  86  92]\n",
      " [110 112 113 ...  92  87  90]]\n",
      "(400, 10304)\n"
     ]
    }
   ],
   "source": [
    "data_matrix = numpy.ndarray(shape=(400, 10304), dtype=numpy.dtype('u1'))  # 8-bit unsigned int\n",
    "label_vector = numpy.empty(shape=(400, 1), dtype=numpy.dtype('u1'))\n",
    "\n",
    "i = 0\n",
    "for dirname, _, filenames in os.walk('dataset'):\n",
    "    for filename in filenames:\n",
    "        image = Image.open(os.path.join(dirname, filename))\n",
    "        numpy_image = numpy.asarray(image).flatten()\n",
    "        data_matrix[i] = numpy_image.copy()\n",
    "        label_vector[i] = int(dirname[dirname.rindex('\\\\') + 2:])\n",
    "        i += 1\n",
    "\n",
    "print(data_matrix)\n",
    "print(data_matrix.shape)"
   ]
  },
  {
   "cell_type": "code",
   "execution_count": 3,
   "id": "eeac1f23",
   "metadata": {},
   "outputs": [
    {
     "name": "stdout",
     "output_type": "stream",
     "text": [
      "[[ 34  34  33 ...  37  40  33]\n",
      " [ 39  44  53 ...  29  26  29]\n",
      " [ 64  76  80 ...  35  37  39]\n",
      " ...\n",
      " [110 109 111 ...  94  88  90]\n",
      " [112 109 116 ...  93  88  92]\n",
      " [110 112 113 ...  92  87  90]]\n",
      "(200, 10304)\n",
      "\n",
      "\n",
      "[[ 48  49  45 ...  47  46  46]\n",
      " [ 60  60  62 ...  32  34  34]\n",
      " [ 63  53  35 ...  41  10  24]\n",
      " ...\n",
      " [114 110 112 ...  93  89  86]\n",
      " [113 112 111 ...  87  87  89]\n",
      " [111 114 112 ...  88  86  92]]\n",
      "(200, 10304)\n"
     ]
    }
   ],
   "source": [
    "# Odd rows for training\n",
    "train_data = data_matrix[::2, :]\n",
    "y_train = label_vector[::2, :].ravel()\n",
    "\n",
    "# Even rows for testing\n",
    "test_data = data_matrix[1::2, :]\n",
    "y_test = label_vector[1::2, :].ravel()\n",
    "\n",
    "print(test_data)\n",
    "print(test_data.shape)\n",
    "print(\"\\n\")\n",
    "print(train_data)\n",
    "print(train_data.shape)"
   ]
  },
  {
   "cell_type": "code",
   "execution_count": 4,
   "id": "4011d7d6",
   "metadata": {},
   "outputs": [],
   "source": [
    "df = pd.DataFrame(train_data)\n",
    "df['class'] = y_train"
   ]
  },
  {
   "cell_type": "code",
   "execution_count": 5,
   "id": "c19ec423",
   "metadata": {},
   "outputs": [],
   "source": [
    "#classes --->classes matrix\n",
    "#mean_mat ---> mean for each class matrix\n",
    "#samples_c ---> nu of samples per class\n",
    "\n",
    "classes = numpy.sort(df['class'].unique())\n",
    "mean_mat = df.groupby('class').mean().values\n",
    "samples_c = df.groupby('class').size().values"
   ]
  },
  {
   "cell_type": "code",
   "execution_count": 6,
   "id": "376f9463",
   "metadata": {},
   "outputs": [
    {
     "name": "stdout",
     "output_type": "stream",
     "text": [
      "(10304, 10304)\n"
     ]
    }
   ],
   "source": [
    "#between classes matrix\n",
    "#nk (nu of samples for class)\n",
    "#uk (mean of class)\n",
    "#u  (mean of all classes)\n",
    "\n",
    "u = mean_mat.mean(0)\n",
    "\n",
    "B = numpy.zeros((10304, 10304))\n",
    "\n",
    "for i in range(classes.size):\n",
    "    nk = samples_c[i]\n",
    "    uk = mean_mat[i]\n",
    "    t = uk - u\n",
    "    B = B*nk + numpy.matmul(t, t.T)\n",
    "\n",
    "print(B.shape)"
   ]
  },
  {
   "cell_type": "code",
   "execution_count": 7,
   "id": "4f709cdb",
   "metadata": {},
   "outputs": [],
   "source": [
    "#within class matrix\n",
    "#class_ss --> class samples\n",
    "#class_m --> class mean\n",
    "\n",
    "S = numpy.zeros((10304, 10304))\n",
    "\n",
    "for i in range(classes.size):\n",
    "    class_ss = df.loc[df['class'] == i + 1].values[:, :-1]\n",
    "    class_m = mean_mat[i]\n",
    "    centered_data = numpy.subtract(class_ss, class_m)\n",
    "    s = numpy.matmul(centered_data.T, centered_data)\n",
    "    S = S + s"
   ]
  },
  {
   "cell_type": "code",
   "execution_count": 8,
   "id": "828c878e",
   "metadata": {},
   "outputs": [
    {
     "data": {
      "text/plain": "(10304, 10304)"
     },
     "execution_count": 8,
     "metadata": {},
     "output_type": "execute_result"
    }
   ],
   "source": [
    "S_inv = numpy.linalg.inv(S)\n",
    "S_inv.shape"
   ]
  },
  {
   "cell_type": "code",
   "execution_count": 19,
   "id": "2064e9cb",
   "metadata": {},
   "outputs": [],
   "source": [
    "eigen_values, eigen_vectors = numpy.linalg.eigh(numpy.matmul(S_inv, B))"
   ]
  },
  {
   "cell_type": "code",
   "execution_count": 20,
   "id": "80d8566b",
   "metadata": {},
   "outputs": [
    {
     "data": {
      "text/plain": "array([ 1.95758711e+49,  6.70561170e+48,  4.23629485e+48, ...,\n       -4.23610290e+48, -6.71033638e+48, -1.94879138e+49])"
     },
     "execution_count": 20,
     "metadata": {},
     "output_type": "execute_result"
    }
   ],
   "source": [
    "#sort the eigenvalues and eigenvectors in descending order\n",
    "sorted_index = numpy.argsort(eigen_values)[::-1]\n",
    "sorted_eigenvalue = eigen_values[sorted_index]\n",
    "sorted_eigenvectors = eigen_vectors[:, sorted_index]\n",
    "sorted_eigenvalue"
   ]
  },
  {
   "cell_type": "code",
   "execution_count": 21,
   "id": "abcb6fe6",
   "metadata": {},
   "outputs": [
    {
     "data": {
      "text/plain": "(10304, 39)"
     },
     "execution_count": 21,
     "metadata": {},
     "output_type": "execute_result"
    }
   ],
   "source": [
    "U = sorted_eigenvectors[:, 0:39]\n",
    "U.shape"
   ]
  },
  {
   "cell_type": "code",
   "execution_count": 22,
   "id": "f2f0010e",
   "metadata": {},
   "outputs": [
    {
     "name": "stdout",
     "output_type": "stream",
     "text": [
      "(200, 39)\n",
      "(200, 39)\n"
     ]
    }
   ],
   "source": [
    "X_train = numpy.matmul(train_data, U)\n",
    "X_test = numpy.matmul(test_data, U)\n",
    "\n",
    "print(X_train.shape)\n",
    "print(X_test.shape)"
   ]
  },
  {
   "cell_type": "code",
   "execution_count": 25,
   "id": "74cf0821",
   "metadata": {
    "pycharm": {
     "name": "#%%\n"
    }
   },
   "outputs": [
    {
     "name": "stdout",
     "output_type": "stream",
     "text": [
      "Accuracy: 0.93\n"
     ]
    }
   ],
   "source": [
    "from sklearn.neighbors import KNeighborsClassifier\n",
    "from sklearn.metrics import accuracy_score\n",
    "\n",
    "knn = KNeighborsClassifier(n_neighbors=1)\n",
    "\n",
    "knn.fit(X_train, y_train)\n",
    "\n",
    "# Predict on dataset which model has not seen before\n",
    "y_pred = knn.predict(X_test)\n",
    "\n",
    "print(\"Accuracy:\", accuracy_score(y_test, y_pred))\n",
    "\n",
    "\n"
   ]
  }
 ],
 "metadata": {
  "kernelspec": {
   "name": "pycharm-f33d6573",
   "language": "python",
   "display_name": "PyCharm (FaceRecognition)"
  },
  "language_info": {
   "codemirror_mode": {
    "name": "ipython",
    "version": 3
   },
   "file_extension": ".py",
   "mimetype": "text/x-python",
   "name": "python",
   "nbconvert_exporter": "python",
   "pygments_lexer": "ipython3",
   "version": "3.8.8"
  }
 },
 "nbformat": 4,
 "nbformat_minor": 5
}