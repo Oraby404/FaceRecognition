{
 "cells": [
  {
   "cell_type": "code",
   "execution_count": 91,
   "metadata": {
    "collapsed": true
   },
   "outputs": [],
   "source": [
    "import os\n",
    "import numpy\n",
    "from PIL import Image"
   ]
  },
  {
   "cell_type": "code",
   "execution_count": 92,
   "outputs": [
    {
     "name": "stdout",
     "output_type": "stream",
     "text": [
      "[[ 48  49  45 ...  47  46  46]\n",
      " [ 34  34  33 ...  37  40  33]\n",
      " [ 60  60  62 ...  32  34  34]\n",
      " ...\n",
      " [112 109 116 ...  93  88  92]\n",
      " [111 114 112 ...  88  86  92]\n",
      " [110 112 113 ...  92  87  90]]\n",
      "(400, 10304)\n"
     ]
    }
   ],
   "source": [
    "data_matrix = numpy.ndarray(shape=(400, 10304), dtype=numpy.dtype('u1'))  # 8-bit unsigned int\n",
    "label_vector = numpy.empty(shape=(400,1), dtype=numpy.dtype('u1'))\n",
    "\n",
    "i = 0\n",
    "for dirname, _, filenames in os.walk('dataset'):\n",
    "    for filename in filenames:\n",
    "        image = Image.open(os.path.join(dirname, filename))\n",
    "        numpy_image = numpy.asarray(image).flatten()\n",
    "        data_matrix[i] = numpy_image.copy()\n",
    "        label_vector[i] = int(dirname[dirname.rindex('\\\\')+ 2:])\n",
    "        i += 1\n",
    "\n",
    "print(data_matrix)\n",
    "print(data_matrix.shape)"
   ],
   "metadata": {
    "collapsed": false,
    "pycharm": {
     "name": "#%%\n"
    }
   }
  },
  {
   "cell_type": "code",
   "execution_count": 93,
   "outputs": [
    {
     "name": "stdout",
     "output_type": "stream",
     "text": [
      "[[ 34  34  33 ...  37  40  33]\n",
      " [ 39  44  53 ...  29  26  29]\n",
      " [ 64  76  80 ...  35  37  39]\n",
      " ...\n",
      " [110 109 111 ...  94  88  90]\n",
      " [112 109 116 ...  93  88  92]\n",
      " [110 112 113 ...  92  87  90]]\n",
      "(200, 10304)\n",
      "\n",
      "\n",
      "[[ 48  49  45 ...  47  46  46]\n",
      " [ 60  60  62 ...  32  34  34]\n",
      " [ 63  53  35 ...  41  10  24]\n",
      " ...\n",
      " [114 110 112 ...  93  89  86]\n",
      " [113 112 111 ...  87  87  89]\n",
      " [111 114 112 ...  88  86  92]]\n",
      "(200, 10304)\n"
     ]
    }
   ],
   "source": [
    "# Odd rows for training\n",
    "train_data = data_matrix[::2,:]\n",
    "y_train = label_vector[::2,:].ravel()\n",
    "\n",
    "# Even rows for testing\n",
    "test_data = data_matrix[1::2,:]\n",
    "y_test = label_vector[1::2,:].ravel()\n",
    "\n",
    "print(test_data)\n",
    "print(test_data.shape)\n",
    "print(\"\\n\")\n",
    "print(train_data)\n",
    "print(train_data.shape)"
   ],
   "metadata": {
    "collapsed": false,
    "pycharm": {
     "name": "#%%\n"
    }
   }
  },
  {
   "cell_type": "code",
   "execution_count": 94,
   "outputs": [],
   "source": [
    "# PCA\n",
    "def PCA(D ,alpha):\n",
    "    mean = numpy.mean(D,axis=0)\n",
    "    centered_data = numpy.subtract(D,mean)\n",
    "    cov_matrix = numpy.cov(centered_data,rowvar = False)\n",
    "    eigen_values , eigen_vectors = numpy.linalg.eigh(cov_matrix)\n",
    "\n",
    "\n",
    "    #sort the eigenvalues and eigenvectors in descending order\n",
    "    sorted_index = numpy.argsort(eigen_values)[::-1]\n",
    "    sorted_eigenvalue = eigen_values[sorted_index]\n",
    "    sorted_eigenvectors = eigen_vectors[:,sorted_index]\n",
    "\n",
    "    sum_eigenvalues = sorted_eigenvalue.sum()\n",
    "    sum_reduced = sorted_eigenvalue[0]\n",
    "\n",
    "    components = 1\n",
    "    while (sum_reduced/sum_eigenvalues) < alpha:\n",
    "        sum_reduced += sorted_eigenvalue[components]\n",
    "        components+=1\n",
    "\n",
    "    reduced_basis = sorted_eigenvectors[:,0:components]\n",
    "\n",
    "    return reduced_basis"
   ],
   "metadata": {
    "collapsed": false,
    "pycharm": {
     "name": "#%%\n"
    }
   }
  },
  {
   "cell_type": "code",
   "execution_count": 95,
   "outputs": [
    {
     "name": "stdout",
     "output_type": "stream",
     "text": [
      "(10304, 76)\n"
     ]
    }
   ],
   "source": [
    "U = PCA(train_data,0.9)\n",
    "# u1    u2  ... ur\n",
    "print(U.shape)"
   ],
   "metadata": {
    "collapsed": false,
    "pycharm": {
     "name": "#%%\n"
    }
   }
  },
  {
   "cell_type": "code",
   "execution_count": 96,
   "outputs": [
    {
     "name": "stdout",
     "output_type": "stream",
     "text": [
      "(200, 76)\n",
      "(200, 76)\n"
     ]
    }
   ],
   "source": [
    "X_train = numpy.matmul(train_data,U)\n",
    "X_test = numpy.matmul(test_data,U)\n",
    "\n",
    "print(X_train.shape)\n",
    "print(X_test.shape)"
   ],
   "metadata": {
    "collapsed": false,
    "pycharm": {
     "name": "#%%\n"
    }
   }
  },
  {
   "cell_type": "code",
   "execution_count": 97,
   "outputs": [
    {
     "name": "stdout",
     "output_type": "stream",
     "text": [
      "Accuracy: 0.94\n"
     ]
    }
   ],
   "source": [
    "from sklearn.neighbors import KNeighborsClassifier\n",
    "from sklearn.metrics import  accuracy_score\n",
    "\n",
    "knn = KNeighborsClassifier(n_neighbors=1)\n",
    "\n",
    "knn.fit(X_train, y_train)\n",
    "\n",
    "# Predict on dataset which model has not seen before\n",
    "y_pred = knn.predict(X_test)\n",
    "\n",
    "print(\"Accuracy:\",accuracy_score(y_test, y_pred))\n",
    "\n",
    "#                            ACCURACY\n",
    "# 0.80 -> 36  eigenvector --> 0.94      K = 1\n",
    "#                             0.855     K = 3\n",
    "#                             0.8       K = 5\n",
    "#                             0.765     K = 7\n",
    "\n",
    "\n",
    "# 0.85 -> 52  eigenvector --> 0.94      K = 1\n",
    "#                             0.855     K = 3\n",
    "#                             0.795     K = 5\n",
    "#                             0.735     K = 7\n",
    "\n",
    "# 0.90 -> 76  eigenvector --> 0.94      K = 1\n",
    "#                             0.85      K = 3\n",
    "#                             0.78      K = 5\n",
    "#                             0.725     K = 7\n",
    "\n",
    "# 0.95 -> 115 eigenvector --> 0.93      K = 1\n",
    "#                             0.85      K = 3\n",
    "#                             0.775     K = 5\n",
    "#                             0.7       K = 7"
   ],
   "metadata": {
    "collapsed": false,
    "pycharm": {
     "name": "#%%\n"
    }
   }
  },
  {
   "cell_type": "code",
   "execution_count": 97,
   "outputs": [],
   "source": [
    "# LDA\n"
   ],
   "metadata": {
    "collapsed": false,
    "pycharm": {
     "name": "#%%\n"
    }
   }
  }
 ],
 "metadata": {
  "kernelspec": {
   "name": "pycharm-f33d6573",
   "language": "python",
   "display_name": "PyCharm (FaceRecognition)"
  },
  "language_info": {
   "codemirror_mode": {
    "name": "ipython",
    "version": 2
   },
   "file_extension": ".py",
   "mimetype": "text/x-python",
   "name": "python",
   "nbconvert_exporter": "python",
   "pygments_lexer": "ipython2",
   "version": "2.7.6"
  }
 },
 "nbformat": 4,
 "nbformat_minor": 0
}