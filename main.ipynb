{
 "cells": [
  {
   "cell_type": "code",
   "execution_count": 1,
   "metadata": {
    "collapsed": true
   },
   "outputs": [],
   "source": [
    "import os\n",
    "import numpy\n",
    "from PIL import Image"
   ]
  },
  {
   "cell_type": "code",
   "execution_count": 2,
   "outputs": [
    {
     "name": "stdout",
     "output_type": "stream",
     "text": [
      "[[ 48  49  45 ...  47  46  46]\n",
      " [ 34  34  33 ...  37  40  33]\n",
      " [ 60  60  62 ...  32  34  34]\n",
      " ...\n",
      " [112 109 116 ...  93  88  92]\n",
      " [111 114 112 ...  88  86  92]\n",
      " [110 112 113 ...  92  87  90]]\n"
     ]
    }
   ],
   "source": [
    "data_matrix = numpy.ndarray(shape=(400, 10304), dtype=numpy.dtype('u1'))  # 8-bit unsigned int\n",
    "label_vector = numpy.empty(shape=(400,1), dtype=numpy.dtype('u1'))\n",
    "\n",
    "i = 0\n",
    "for dirname, _, filenames in os.walk('dataset'):\n",
    "    for filename in filenames:\n",
    "        image = Image.open(os.path.join(dirname, filename))\n",
    "        numpy_image = numpy.asarray(image).flatten()\n",
    "        data_matrix[i] = numpy_image.copy()\n",
    "        label_vector[i] = int(dirname[dirname.rindex('\\\\')+ 2:])\n",
    "        i += 1\n",
    "\n",
    "print(data_matrix)"
   ],
   "metadata": {
    "collapsed": false,
    "pycharm": {
     "name": "#%%\n"
    }
   }
  },
  {
   "cell_type": "code",
   "execution_count": 3,
   "outputs": [
    {
     "name": "stdout",
     "output_type": "stream",
     "text": [
      "[[ 34  34  33 ...  37  40  33]\n",
      " [ 39  44  53 ...  29  26  29]\n",
      " [ 64  76  80 ...  35  37  39]\n",
      " ...\n",
      " [110 109 111 ...  94  88  90]\n",
      " [112 109 116 ...  93  88  92]\n",
      " [110 112 113 ...  92  87  90]]\n",
      "\n",
      "\n",
      "[[ 48  49  45 ...  47  46  46]\n",
      " [ 60  60  62 ...  32  34  34]\n",
      " [ 63  53  35 ...  41  10  24]\n",
      " ...\n",
      " [114 110 112 ...  93  89  86]\n",
      " [113 112 111 ...  87  87  89]\n",
      " [111 114 112 ...  88  86  92]]\n"
     ]
    }
   ],
   "source": [
    "# Odd rows for training\n",
    "train_data = data_matrix[::2,:]\n",
    "y_train = label_vector[::2,:].ravel()\n",
    "\n",
    "# Even rows for testing\n",
    "test_data = data_matrix[1::2,:]\n",
    "y_test = label_vector[1::2,:].ravel()\n",
    "\n",
    "print(test_data)\n",
    "print(\"\\n\")\n",
    "print(train_data)"
   ],
   "metadata": {
    "collapsed": false,
    "pycharm": {
     "name": "#%%\n"
    }
   }
  },
  {
   "cell_type": "code",
   "execution_count": 4,
   "outputs": [],
   "source": [
    "# PCA\n",
    "def PCA(D ,alpha):\n",
    "    mean = numpy.mean(D,axis=0)\n",
    "    centered_data = numpy.subtract(D,mean)\n",
    "    cov_matrix = numpy.cov(centered_data,rowvar = False)\n",
    "    eigen_values , eigen_vectors = numpy.linalg.eigh(cov_matrix)\n",
    "\n",
    "\n",
    "    #sort the eigenvalues and eigenvectors in descending order\n",
    "    sorted_index = numpy.argsort(eigen_values)[::-1]\n",
    "    sorted_eigenvalue = eigen_values[sorted_index]\n",
    "    sorted_eigenvectors = eigen_vectors[:,sorted_index]\n",
    "\n",
    "    sum_eigenvalues = sorted_eigenvalue.sum()\n",
    "    sum_reduced = sorted_eigenvalue[0]\n",
    "\n",
    "    components = 1\n",
    "    while (sum_reduced/sum_eigenvalues) < alpha:\n",
    "        sum_reduced += sorted_eigenvalue[components]\n",
    "        components+=1\n",
    "\n",
    "    reduced_basis = sorted_eigenvectors[:,0:components]\n",
    "\n",
    "    return reduced_basis"
   ],
   "metadata": {
    "collapsed": false,
    "pycharm": {
     "name": "#%%\n"
    }
   }
  },
  {
   "cell_type": "code",
   "execution_count": 5,
   "outputs": [
    {
     "name": "stdout",
     "output_type": "stream",
     "text": [
      "(200, 76)\n",
      "(200, 76)\n"
     ]
    }
   ],
   "source": [
    "U = PCA(train_data,0.90)"
   ],
   "metadata": {
    "collapsed": false,
    "pycharm": {
     "name": "#%%\n"
    }
   }
  },
  {
   "cell_type": "code",
   "execution_count": 9,
   "outputs": [],
   "source": [
    "X_train = numpy.dot(U.T,train_data.T).T\n",
    "X_test = numpy.dot(U.T,test_data.T).T"
   ],
   "metadata": {
    "collapsed": false,
    "pycharm": {
     "name": "#%%\n"
    }
   }
  },
  {
   "cell_type": "code",
   "execution_count": 11,
   "outputs": [
    {
     "name": "stdout",
     "output_type": "stream",
     "text": [
      "[[5 0 0 ... 0 0 0]\n",
      " [0 5 0 ... 0 0 0]\n",
      " [0 0 5 ... 0 0 0]\n",
      " ...\n",
      " [0 0 0 ... 5 0 0]\n",
      " [0 0 0 ... 0 5 0]\n",
      " [0 0 0 ... 0 0 3]]\n",
      "              precision    recall  f1-score   support\n",
      "\n",
      "           1       1.00      1.00      1.00         5\n",
      "           2       0.83      1.00      0.91         5\n",
      "           3       1.00      1.00      1.00         5\n",
      "           4       0.83      1.00      0.91         5\n",
      "           5       0.67      0.80      0.73         5\n",
      "           6       1.00      1.00      1.00         5\n",
      "           7       1.00      1.00      1.00         5\n",
      "           8       0.83      1.00      0.91         5\n",
      "           9       1.00      1.00      1.00         5\n",
      "          10       1.00      0.60      0.75         5\n",
      "          11       1.00      1.00      1.00         5\n",
      "          12       1.00      1.00      1.00         5\n",
      "          13       0.83      1.00      0.91         5\n",
      "          14       1.00      1.00      1.00         5\n",
      "          15       0.83      1.00      0.91         5\n",
      "          16       1.00      1.00      1.00         5\n",
      "          17       1.00      1.00      1.00         5\n",
      "          18       0.83      1.00      0.91         5\n",
      "          19       1.00      0.80      0.89         5\n",
      "          20       1.00      0.80      0.89         5\n",
      "          21       1.00      1.00      1.00         5\n",
      "          22       1.00      1.00      1.00         5\n",
      "          23       1.00      1.00      1.00         5\n",
      "          24       1.00      1.00      1.00         5\n",
      "          25       1.00      1.00      1.00         5\n",
      "          26       1.00      1.00      1.00         5\n",
      "          27       1.00      1.00      1.00         5\n",
      "          28       1.00      1.00      1.00         5\n",
      "          29       1.00      1.00      1.00         5\n",
      "          30       1.00      1.00      1.00         5\n",
      "          31       1.00      1.00      1.00         5\n",
      "          32       1.00      0.80      0.89         5\n",
      "          33       1.00      1.00      1.00         5\n",
      "          34       1.00      1.00      1.00         5\n",
      "          35       1.00      0.20      0.33         5\n",
      "          36       1.00      1.00      1.00         5\n",
      "          37       1.00      1.00      1.00         5\n",
      "          38       0.71      1.00      0.83         5\n",
      "          39       1.00      1.00      1.00         5\n",
      "          40       0.60      0.60      0.60         5\n",
      "\n",
      "    accuracy                           0.94       200\n",
      "   macro avg       0.95      0.94      0.93       200\n",
      "weighted avg       0.95      0.94      0.93       200\n",
      "\n",
      "Accuracy: 0.94\n"
     ]
    }
   ],
   "source": [
    "from sklearn.neighbors import KNeighborsClassifier\n",
    "from sklearn.metrics import classification_report, confusion_matrix ,accuracy_score\n",
    "\n",
    "knn = KNeighborsClassifier(n_neighbors=1)\n",
    "\n",
    "knn.fit(X_train, y_train)\n",
    "\n",
    "# Predict on dataset which model has not seen before\n",
    "y_pred = knn.predict(X_test)\n",
    "\n",
    "print(confusion_matrix(y_test, y_pred))\n",
    "print(classification_report(y_test, y_pred))\n",
    "print(\"Accuracy:\",accuracy_score(y_test, y_pred))"
   ],
   "metadata": {
    "collapsed": false,
    "pycharm": {
     "name": "#%%\n"
    }
   }
  }
 ],
 "metadata": {
  "kernelspec": {
   "name": "pycharm-f33d6573",
   "language": "python",
   "display_name": "PyCharm (FaceRecognition)"
  },
  "language_info": {
   "codemirror_mode": {
    "name": "ipython",
    "version": 2
   },
   "file_extension": ".py",
   "mimetype": "text/x-python",
   "name": "python",
   "nbconvert_exporter": "python",
   "pygments_lexer": "ipython2",
   "version": "2.7.6"
  }
 },
 "nbformat": 4,
 "nbformat_minor": 0
}