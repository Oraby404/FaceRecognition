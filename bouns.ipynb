{
 "cells": [
  {
   "cell_type": "code",
   "execution_count": 23,
   "metadata": {
    "collapsed": true
   },
   "outputs": [],
   "source": [
    "import os\n",
    "import numpy\n",
    "from PIL import Image\n",
    "import matplotlib.pyplot as plt"
   ]
  },
  {
   "cell_type": "code",
   "execution_count": 24,
   "outputs": [
    {
     "name": "stdout",
     "output_type": "stream",
     "text": [
      "[[ 48  49  45 ...  47  46  46]\n",
      " [ 34  34  33 ...  37  40  33]\n",
      " [ 60  60  62 ...  32  34  34]\n",
      " ...\n",
      " [112 109 116 ...  93  88  92]\n",
      " [111 114 112 ...  88  86  92]\n",
      " [110 112 113 ...  92  87  90]]\n",
      "(400, 10304)\n"
     ]
    }
   ],
   "source": [
    "data_matrix = numpy.ndarray(shape=(400, 10304), dtype=numpy.dtype('u1'))  # 8-bit unsigned int\n",
    "label_vector = numpy.empty(shape=(400, 1), dtype=numpy.dtype('u1'))\n",
    "\n",
    "i = 0\n",
    "for dirname, _, filenames in os.walk('dataset'):\n",
    "    for filename in filenames:\n",
    "        image = Image.open(os.path.join(dirname, filename))\n",
    "        numpy_image = numpy.asarray(image).flatten()\n",
    "        data_matrix[i] = numpy_image.copy()\n",
    "        label_vector[i] = int(dirname[dirname.rindex('\\\\') + 2:])\n",
    "        i += 1\n",
    "\n",
    "print(data_matrix)\n",
    "print(data_matrix.shape)"
   ],
   "metadata": {
    "collapsed": false,
    "pycharm": {
     "name": "#%%\n"
    }
   }
  },
  {
   "cell_type": "code",
   "execution_count": 25,
   "outputs": [],
   "source": [
    "train_data=numpy.empty((280,10304))\n",
    "y_train= numpy.empty((280,1))\n",
    "test_data= numpy.empty((120,10304))\n",
    "y_test= numpy.empty((120,1))\n",
    "\n",
    "x=0\n",
    "y=0\n",
    "for i in range(40):\n",
    "    for j in range(7):\n",
    "        train_data[x][:]=data_matrix[(i*10)+j][:]\n",
    "        y_train[x]=label_vector[(i*10)+j][0]\n",
    "        x=x+1\n",
    "\n",
    "    for k in range(3):\n",
    "        test_data[y]=data_matrix[(i*10)+7+k][:]\n",
    "        y_test[y]=label_vector[(i*10)+7+k][0]\n",
    "        y=y+1"
   ],
   "metadata": {
    "collapsed": false,
    "pycharm": {
     "name": "#%%\n"
    }
   }
  },
  {
   "cell_type": "code",
   "execution_count": 26,
   "outputs": [],
   "source": [
    "# PCA\n",
    "def PCA(D, alpha):\n",
    "    mean = numpy.mean(D, axis=0).reshape(1, train_data.shape[1])\n",
    "    centered_data = numpy.subtract(D, mean)\n",
    "    cov_matrix = numpy.cov(centered_data, rowvar=False)\n",
    "    eigen_values, eigen_vectors = numpy.linalg.eigh(cov_matrix)\n",
    "\n",
    "    #sort the eigenvalues and eigenvectors in descending order\n",
    "    sorted_index = numpy.argsort(eigen_values)[::-1]\n",
    "    sorted_eigenvalue = eigen_values[sorted_index]\n",
    "    sorted_eigenvectors = eigen_vectors[:, sorted_index]\n",
    "\n",
    "    sum_eigenvalues = sorted_eigenvalue.sum()\n",
    "    sum_reduced = sorted_eigenvalue[0]\n",
    "\n",
    "    components = 1\n",
    "    while (sum_reduced / sum_eigenvalues) < alpha:\n",
    "        sum_reduced += sorted_eigenvalue[components]\n",
    "        components += 1\n",
    "\n",
    "    reduced_basis = sorted_eigenvectors[:, 0:components]\n",
    "\n",
    "    return reduced_basis"
   ],
   "metadata": {
    "collapsed": false,
    "pycharm": {
     "name": "#%%\n"
    }
   }
  },
  {
   "cell_type": "code",
   "execution_count": 27,
   "outputs": [
    {
     "name": "stdout",
     "output_type": "stream",
     "text": [
      "(10304, 89)\n"
     ]
    }
   ],
   "source": [
    "U = PCA(train_data, 0.9)\n",
    "# u1    u2  ... ur\n",
    "print(U.shape)"
   ],
   "metadata": {
    "collapsed": false,
    "pycharm": {
     "name": "#%%\n"
    }
   }
  },
  {
   "cell_type": "code",
   "execution_count": 28,
   "outputs": [
    {
     "name": "stdout",
     "output_type": "stream",
     "text": [
      "(280, 89)\n",
      "(120, 89)\n"
     ]
    }
   ],
   "source": [
    "X_train = numpy.matmul(train_data, U)\n",
    "X_test = numpy.matmul(test_data, U)\n",
    "\n",
    "print(X_train.shape)\n",
    "print(X_test.shape)"
   ],
   "metadata": {
    "collapsed": false,
    "pycharm": {
     "name": "#%%\n"
    }
   }
  },
  {
   "cell_type": "code",
   "execution_count": 32,
   "outputs": [
    {
     "name": "stdout",
     "output_type": "stream",
     "text": [
      "Accuracy: 0.95\n"
     ]
    },
    {
     "name": "stderr",
     "output_type": "stream",
     "text": [
      "C:\\ProgramData\\Anaconda3\\envs\\FaceRecognition\\lib\\site-packages\\sklearn\\neighbors\\_classification.py:198: DataConversionWarning: A column-vector y was passed when a 1d array was expected. Please change the shape of y to (n_samples,), for example using ravel().\n",
      "  return self._fit(X, y)\n"
     ]
    }
   ],
   "source": [
    "from sklearn.neighbors import KNeighborsClassifier\n",
    "from sklearn.metrics import accuracy_score\n",
    "\n",
    "knn = KNeighborsClassifier(n_neighbors=1)\n",
    "\n",
    "knn.fit(X_train, y_train)\n",
    "\n",
    "# Predict on dataset which model has not seen before\n",
    "y_pred = knn.predict(X_test)\n",
    "\n",
    "print(\"Accuracy:\", accuracy_score(y_test, y_pred))"
   ],
   "metadata": {
    "collapsed": false,
    "pycharm": {
     "name": "#%%\n"
    }
   }
  }
 ],
 "metadata": {
  "kernelspec": {
   "name": "pycharm-f33d6573",
   "language": "python",
   "display_name": "PyCharm (FaceRecognition)"
  },
  "language_info": {
   "codemirror_mode": {
    "name": "ipython",
    "version": 2
   },
   "file_extension": ".py",
   "mimetype": "text/x-python",
   "name": "python",
   "nbconvert_exporter": "python",
   "pygments_lexer": "ipython2",
   "version": "2.7.6"
  }
 },
 "nbformat": 4,
 "nbformat_minor": 0
}